{
  "metadata": {
    "kernelspec": {
      "display_name": "Python 3",
      "name": "python3"
    },
    "language_info": {
      "name": "python",
      "version": "3.10.13",
      "mimetype": "text/x-python",
      "codemirror_mode": {
        "name": "ipython",
        "version": 3
      },
      "pygments_lexer": "ipython3",
      "nbconvert_exporter": "python",
      "file_extension": ".py"
    },
    "kaggle": {
      "accelerator": "none",
      "dataSources": [
        {
          "sourceId": 2231927,
          "sourceType": "datasetVersion",
          "datasetId": 1340873
        }
      ],
      "dockerImageVersionId": 30684,
      "isInternetEnabled": false,
      "language": "python",
      "sourceType": "notebook",
      "isGpuEnabled": false
    },
    "colab": {
      "name": "TwitterSentimentAnalysis-LSTMs-RNN",
      "provenance": []
    },
    "accelerator": "TPU"
  },
  "nbformat_minor": 0,
  "nbformat": 4,
  "cells": [
    {
      "source": [
        "\n",
        "# IMPORTANT: RUN THIS CELL IN ORDER TO IMPORT YOUR KAGGLE DATA SOURCES\n",
        "# TO THE CORRECT LOCATION (/kaggle/input) IN YOUR NOTEBOOK,\n",
        "# THEN FEEL FREE TO DELETE THIS CELL.\n",
        "# NOTE: THIS NOTEBOOK ENVIRONMENT DIFFERS FROM KAGGLE'S PYTHON\n",
        "# ENVIRONMENT SO THERE MAY BE MISSING LIBRARIES USED BY YOUR\n",
        "# NOTEBOOK.\n",
        "\n",
        "import os\n",
        "import sys\n",
        "from tempfile import NamedTemporaryFile\n",
        "from urllib.request import urlopen\n",
        "from urllib.parse import unquote, urlparse\n",
        "from urllib.error import HTTPError\n",
        "from zipfile import ZipFile\n",
        "import tarfile\n",
        "import shutil\n",
        "\n",
        "CHUNK_SIZE = 40960\n",
        "DATA_SOURCE_MAPPING = 'twitter-sentiment-dataset:https%3A%2F%2Fstorage.googleapis.com%2Fkaggle-data-sets%2F1340873%2F2231927%2Fbundle%2Farchive.zip%3FX-Goog-Algorithm%3DGOOG4-RSA-SHA256%26X-Goog-Credential%3Dgcp-kaggle-com%2540kaggle-161607.iam.gserviceaccount.com%252F20240412%252Fauto%252Fstorage%252Fgoog4_request%26X-Goog-Date%3D20240412T072810Z%26X-Goog-Expires%3D259200%26X-Goog-SignedHeaders%3Dhost%26X-Goog-Signature%3D4801f355cae46f75fe3cf2b1c305e6b6218100414eb9afe70c66f809c1ab976c888dbf6ef8ccb85630470edd464a90e014ee9bedf945109d6c383fd4bfe4fb026f83dd6c27a95e1355194f3ba8add4bab84aea60d338e35243a38f69d04340ce3ccf404a5d15fc1ba89c7c63953d9ee3134441846f3adc494da77ebbfcc1cc61dfd73817d2359f114a2dd081b7b88f330694247d45da35239d233e768678c86f9a6b4a4a7e51874f2f597dbe77869d541999acec06a54c69c06c303fe6fc8b165dec8e785ae5b322e7c8936000b96c0a00435d5a29663148dddc8655ec96b74f298046224ba27ad4f93e877a9069b47f94ff53dfefab8622adc80ca68a3f08c2'\n",
        "\n",
        "KAGGLE_INPUT_PATH='/kaggle/input'\n",
        "KAGGLE_WORKING_PATH='/kaggle/working'\n",
        "KAGGLE_SYMLINK='kaggle'\n",
        "\n",
        "!umount /kaggle/input/ 2> /dev/null\n",
        "shutil.rmtree('/kaggle/input', ignore_errors=True)\n",
        "os.makedirs(KAGGLE_INPUT_PATH, 0o777, exist_ok=True)\n",
        "os.makedirs(KAGGLE_WORKING_PATH, 0o777, exist_ok=True)\n",
        "\n",
        "try:\n",
        "  os.symlink(KAGGLE_INPUT_PATH, os.path.join(\"..\", 'input'), target_is_directory=True)\n",
        "except FileExistsError:\n",
        "  pass\n",
        "try:\n",
        "  os.symlink(KAGGLE_WORKING_PATH, os.path.join(\"..\", 'working'), target_is_directory=True)\n",
        "except FileExistsError:\n",
        "  pass\n",
        "\n",
        "for data_source_mapping in DATA_SOURCE_MAPPING.split(','):\n",
        "    directory, download_url_encoded = data_source_mapping.split(':')\n",
        "    download_url = unquote(download_url_encoded)\n",
        "    filename = urlparse(download_url).path\n",
        "    destination_path = os.path.join(KAGGLE_INPUT_PATH, directory)\n",
        "    try:\n",
        "        with urlopen(download_url) as fileres, NamedTemporaryFile() as tfile:\n",
        "            total_length = fileres.headers['content-length']\n",
        "            print(f'Downloading {directory}, {total_length} bytes compressed')\n",
        "            dl = 0\n",
        "            data = fileres.read(CHUNK_SIZE)\n",
        "            while len(data) > 0:\n",
        "                dl += len(data)\n",
        "                tfile.write(data)\n",
        "                done = int(50 * dl / int(total_length))\n",
        "                sys.stdout.write(f\"\\r[{'=' * done}{' ' * (50-done)}] {dl} bytes downloaded\")\n",
        "                sys.stdout.flush()\n",
        "                data = fileres.read(CHUNK_SIZE)\n",
        "            if filename.endswith('.zip'):\n",
        "              with ZipFile(tfile) as zfile:\n",
        "                zfile.extractall(destination_path)\n",
        "            else:\n",
        "              with tarfile.open(tfile.name) as tarfile:\n",
        "                tarfile.extractall(destination_path)\n",
        "            print(f'\\nDownloaded and uncompressed: {directory}')\n",
        "    except HTTPError as e:\n",
        "        print(f'Failed to load (likely expired) {download_url} to path {destination_path}')\n",
        "        continue\n",
        "    except OSError as e:\n",
        "        print(f'Failed to load {download_url} to path {destination_path}')\n",
        "        continue\n",
        "\n",
        "print('Data source import complete.')\n"
      ],
      "metadata": {
        "colab": {
          "base_uri": "https://localhost:8080/"
        },
        "id": "jGaly7BgNPj5",
        "outputId": "a67bc737-18aa-48e7-c33e-dc7ddec1d853"
      },
      "cell_type": "code",
      "outputs": [
        {
          "output_type": "stream",
          "name": "stdout",
          "text": [
            "Downloading twitter-sentiment-dataset, 7966522 bytes compressed\n",
            "[==================================================] 7966522 bytes downloaded\n",
            "Downloaded and uncompressed: twitter-sentiment-dataset\n",
            "Data source import complete.\n"
          ]
        }
      ],
      "execution_count": 1
    },
    {
      "cell_type": "code",
      "source": [
        "import re\n",
        "import string\n",
        "import nltk\n",
        "from nltk.tokenize import word_tokenize\n",
        "from nltk.corpus import stopwords\n",
        "from nltk.stem import PorterStemmer\n",
        "from nltk.stem import WordNetLemmatizer\n",
        "\n",
        "nltk.download('punkt')\n",
        "nltk.download('stopwords')\n",
        "nltk.download('wordnet')\n",
        "\n",
        "def preprocess_tweet(tweet):\n",
        "\n",
        "    tokens = word_tokenize(tweet)\n",
        "\n",
        "\n",
        "    tokens = [token.lower() for token in tokens]\n",
        "\n",
        "\n",
        "    tokens = [re.sub(r'https?://\\S+', '', token) for token in tokens]\n",
        "\n",
        "\n",
        "    tokens = [re.sub(r'@[A-Za-z0-9_]+', '', token) for token in tokens]\n",
        "\n",
        "\n",
        "    tokens = [token.translate(str.maketrans('', '', string.punctuation)) for token in tokens]\n",
        "\n",
        "\n",
        "    tokens = [token for token in tokens if token.strip()]\n",
        "\n",
        "\n",
        "    stop_words = set(stopwords.words('english'))\n",
        "    tokens = [token for token in tokens if token not in stop_words]\n",
        "\n",
        "\n",
        "    stemmer = PorterStemmer()\n",
        "    tokens = [stemmer.stem(token) for token in tokens]\n",
        "\n",
        "\n",
        "    lemmatizer = WordNetLemmatizer()\n",
        "    tokens = [lemmatizer.lemmatize(token) for token in tokens]\n",
        "\n",
        "\n",
        "    return tokens\n",
        "\n",
        "tweet = \"Just finished reading a great book! #excited\"\n",
        "processed_tweet = preprocess_tweet(tweet)\n",
        "print(processed_tweet)\n"
      ],
      "metadata": {
        "execution": {
          "iopub.status.busy": "2024-04-12T07:25:59.653377Z",
          "iopub.execute_input": "2024-04-12T07:25:59.65409Z",
          "iopub.status.idle": "2024-04-12T07:26:19.940303Z",
          "shell.execute_reply.started": "2024-04-12T07:25:59.654058Z",
          "shell.execute_reply": "2024-04-12T07:26:19.938431Z"
        },
        "trusted": true,
        "colab": {
          "base_uri": "https://localhost:8080/"
        },
        "id": "pAwxZLh9NPj_",
        "outputId": "ba60deae-940a-4f8a-cd4c-8407e9ac6173"
      },
      "execution_count": 2,
      "outputs": [
        {
          "output_type": "stream",
          "name": "stderr",
          "text": [
            "[nltk_data] Downloading package punkt to /root/nltk_data...\n",
            "[nltk_data]   Package punkt is already up-to-date!\n",
            "[nltk_data] Downloading package stopwords to /root/nltk_data...\n",
            "[nltk_data]   Package stopwords is already up-to-date!\n",
            "[nltk_data] Downloading package wordnet to /root/nltk_data...\n",
            "[nltk_data]   Package wordnet is already up-to-date!\n"
          ]
        },
        {
          "output_type": "stream",
          "name": "stdout",
          "text": [
            "['finish', 'read', 'great', 'book', 'excit']\n"
          ]
        }
      ]
    },
    {
      "cell_type": "code",
      "source": [
        "import gensim.downloader as api\n",
        "\n",
        "word_vectors = api.load(\"glove-wiki-gigaword-100\")\n",
        "\n",
        "vector = word_vectors[\"word\"]\n",
        "\n",
        "king_vector = word_vectors[\"king\"]\n",
        "print(king_vector)\n"
      ],
      "metadata": {
        "colab": {
          "base_uri": "https://localhost:8080/"
        },
        "id": "LesLzplGNPkB",
        "outputId": "4df79caf-10d7-4a40-ce5d-6ef4408fe9bc"
      },
      "execution_count": 3,
      "outputs": [
        {
          "output_type": "stream",
          "name": "stdout",
          "text": [
            "[-0.32307  -0.87616   0.21977   0.25268   0.22976   0.7388   -0.37954\n",
            " -0.35307  -0.84369  -1.1113   -0.30266   0.33178  -0.25113   0.30448\n",
            " -0.077491 -0.89815   0.092496 -1.1407   -0.58324   0.66869  -0.23122\n",
            " -0.95855   0.28262  -0.078848  0.75315   0.26584   0.3422   -0.33949\n",
            "  0.95608   0.065641  0.45747   0.39835   0.57965   0.39267  -0.21851\n",
            "  0.58795  -0.55999   0.63368  -0.043983 -0.68731  -0.37841   0.38026\n",
            "  0.61641  -0.88269  -0.12346  -0.37928  -0.38318   0.23868   0.6685\n",
            " -0.43321  -0.11065   0.081723  1.1569    0.78958  -0.21223  -2.3211\n",
            " -0.67806   0.44561   0.65707   0.1045    0.46217   0.19912   0.25802\n",
            "  0.057194  0.53443  -0.43133  -0.34311   0.59789  -0.58417   0.068995\n",
            "  0.23944  -0.85181   0.30379  -0.34177  -0.25746  -0.031101 -0.16285\n",
            "  0.45169  -0.91627   0.64521   0.73281  -0.22752   0.30226   0.044801\n",
            " -0.83741   0.55006  -0.52506  -1.7357    0.4751   -0.70487   0.056939\n",
            " -0.7132    0.089623  0.41394  -1.3363   -0.61915  -0.33089  -0.52881\n",
            "  0.16483  -0.98878 ]\n"
          ]
        }
      ]
    },
    {
      "cell_type": "code",
      "source": [
        "import pandas as pd\n",
        "import numpy as np\n",
        "import torch\n",
        "import torch.nn as nn\n",
        "import torch.optim as optim\n",
        "from sklearn.model_selection import train_test_split\n",
        "from torch.utils.data import DataLoader, TensorDataset\n",
        "from tqdm import tqdm\n",
        "\n",
        "data = pd.read_csv('/kaggle/input/twitter-sentiment-dataset/Twitter_Data.csv')\n",
        "data.dropna()\n",
        "def text_to_vectors(tokens):\n",
        "    vectors = []\n",
        "    for token in tokens:\n",
        "        if token in word_vectors:\n",
        "            vectors.append(word_vectors[token])\n",
        "    return vectors\n",
        "\n",
        "x_label = []\n",
        "\n",
        "for i in data['clean_text']:\n",
        "    if not isinstance(i, str):\n",
        "      continue\n",
        "    x_label.append(text_to_vectors(preprocess_tweet(i)))\n"
      ],
      "metadata": {
        "id": "BoB8jkIRQP0O"
      },
      "execution_count": 4,
      "outputs": []
    },
    {
      "cell_type": "code",
      "source": [
        "\n",
        "max_length = max(len(seq) for seq in x_label)\n",
        "\n",
        "padded_sequences = [seq + [[0.0] * len(x_label[0][0])] * (max_length - len(seq)) for seq in x_label]\n",
        "\n",
        "data_x = np.array(padded_sequences)\n"
      ],
      "metadata": {
        "id": "HKwe3tg0Q_Op"
      },
      "execution_count": 5,
      "outputs": []
    },
    {
      "cell_type": "code",
      "source": [
        "labels = []\n",
        "\n",
        "for tweet,label in zip(data['clean_text'],data['category']):\n",
        "    if not isinstance(tweet, str):\n",
        "      continue\n",
        "    labels.append(label+1)\n",
        "\n",
        "X_train, X_test, y_train, y_test = train_test_split(data_x, labels, test_size=0.999, random_state=42)\n",
        "\n",
        "del X_test\n",
        "del y_test\n",
        "\n",
        "X_train_tensor = torch.tensor(X_train, dtype=torch.float32)\n",
        "#X_test_tensor = torch.tensor(X_test, dtype=torch.float32)\n",
        "y_train_tensor = torch.tensor(y_train, dtype=torch.long)\n",
        "#y_test_tensor = torch.tensor(y_test, dtype=torch.long)\n",
        "\n",
        "train_dataset = TensorDataset(X_train_tensor, y_train_tensor)\n",
        "#test_dataset = TensorDataset(X_test_tensor, y_test_tensor)\n",
        "train_loader = DataLoader(train_dataset, batch_size=64, shuffle=True)\n",
        "#test_loader = DataLoader(test_dataset, batch_size=64)\n",
        "\n",
        "class SentimentRNN(nn.Module):\n",
        "    def __init__(self, input_size, hidden_size, output_size):\n",
        "        super(SentimentRNN, self).__init__()\n",
        "        self.rnn = nn.RNN(input_size, hidden_size, batch_first=True)\n",
        "        self.fc = nn.Linear(hidden_size, output_size)\n",
        "\n",
        "    def forward(self, x):\n",
        "        out, _ = self.rnn(x)\n",
        "        out = self.fc(out[:, -1, :])\n",
        "        return out\n",
        "\n",
        "input_size = 100\n",
        "hidden_size = 128\n",
        "output_size = 3\n",
        "num_epochs = 10\n",
        "learning_rate = 0.001\n",
        "\n",
        "model = SentimentRNN(input_size, hidden_size, output_size)\n",
        "criterion = nn.CrossEntropyLoss()\n",
        "optimizer = optim.Adam(model.parameters(), lr=learning_rate)\n",
        "\n",
        "model.train()\n",
        "for epoch in range(num_epochs):\n",
        "    for inputs, labels in train_loader:\n",
        "        optimizer.zero_grad()\n",
        "        outputs = model(inputs)\n",
        "        loss = criterion(outputs, labels)\n",
        "        loss.backward()\n",
        "        optimizer.step()\n",
        "    print(f'Epoch [{epoch+1}/{num_epochs}], Loss: {loss.item():.4f}')\n"
      ],
      "metadata": {
        "colab": {
          "base_uri": "https://localhost:8080/"
        },
        "id": "xLDvT2fCaP-a",
        "outputId": "9248de71-7a6a-48ce-cd21-5002c556473a"
      },
      "execution_count": 6,
      "outputs": [
        {
          "output_type": "stream",
          "name": "stdout",
          "text": [
            "Epoch [1/10], Loss: 1.0688\n",
            "Epoch [2/10], Loss: 1.0212\n",
            "Epoch [3/10], Loss: 1.1483\n",
            "Epoch [4/10], Loss: 0.9724\n",
            "Epoch [5/10], Loss: 0.9678\n",
            "Epoch [6/10], Loss: 1.2605\n",
            "Epoch [7/10], Loss: 1.1682\n",
            "Epoch [8/10], Loss: 1.0023\n",
            "Epoch [9/10], Loss: 1.0367\n",
            "Epoch [10/10], Loss: 1.1359\n"
          ]
        }
      ]
    },
    {
      "cell_type": "code",
      "source": [
        "# Evaluate the model\n",
        "#model.eval()\n",
        "#with torch.no_grad():\n",
        "#    correct = 0\n",
        "#    total = 0\n",
        "#    for inputs, labels in test_loader:\n",
        "#        outputs = model(inputs)\n",
        "#        _, predicted = torch.max(outputs.data, 1)\n",
        "#        total += labels.size(0)\n",
        "#        correct += (predicted == labels).sum().item()\n",
        "\n",
        "#   print(f'Accuracy on the test set: {100 * correct / total:.2f}%')"
      ],
      "metadata": {
        "id": "E1MYMw8BhbMa"
      },
      "execution_count": 7,
      "outputs": []
    },
    {
      "cell_type": "code",
      "source": [
        "torch.save(model.state_dict(), 'Twitter_sentiment.pth')"
      ],
      "metadata": {
        "id": "Dlxumqeglk83"
      },
      "execution_count": 8,
      "outputs": []
    }
  ]
}